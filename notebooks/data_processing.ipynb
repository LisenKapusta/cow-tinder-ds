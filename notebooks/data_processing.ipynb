{
 "cells": [
  {
   "cell_type": "code",
   "execution_count": 7,
   "metadata": {},
   "outputs": [],
   "source": [
    "import pandas as pd\n",
    "import numpy as np\n",
    "import tqdm\n",
    "from pathlib import Path\n",
    "\n",
    "# Динамическое получение текущей рабочей директории\n",
    "current_path = Path.cwd()  # Получает текущую рабочую директорию\n",
    "root_directory = current_path.parent\n",
    "\n",
    "\n",
    "df_animals = pd.read_excel(root_directory / \"raw_data\" / \"Датасет на хакатон.xlsx\")\n",
    "df_mutations = pd.read_excel(root_directory / \"raw_data\" / \"Генетические мутации хакатон.xlsx\")"
   ]
  },
  {
   "cell_type": "code",
   "execution_count": 8,
   "metadata": {},
   "outputs": [
    {
     "data": {
      "text/plain": [
       "PosixPath('/Users/holodkovaelizavetaigorevna/Downloads/hakaton')"
      ]
     },
     "execution_count": 8,
     "metadata": {},
     "output_type": "execute_result"
    }
   ],
   "source": [
    "root_directory"
   ]
  },
  {
   "cell_type": "markdown",
   "metadata": {},
   "source": [
    "## Заполнение пустых данных"
   ]
  },
  {
   "cell_type": "code",
   "execution_count": 2,
   "metadata": {},
   "outputs": [
    {
     "name": "stderr",
     "output_type": "stream",
     "text": [
      "/var/folders/wx/t_ps87396x57bwpc30093rch0000gn/T/ipykernel_49596/4235569056.py:4: FutureWarning: ChainedAssignmentError: behaviour will change in pandas 3.0!\n",
      "You are setting values through chained assignment. Currently this works in certain cases, but when using Copy-on-Write (which will become the default behaviour in pandas 3.0) this will never work to update the original DataFrame or Series, because the intermediate object on which we are setting values will behave as a copy.\n",
      "A typical example is when you are setting values in a column of a DataFrame, like:\n",
      "\n",
      "df[\"col\"][row_indexer] = value\n",
      "\n",
      "Use `df.loc[row_indexer, \"col\"] = values` instead, to perform the assignment in a single step and ensure this keeps updating the original `df`.\n",
      "\n",
      "See the caveats in the documentation: https://pandas.pydata.org/pandas-docs/stable/user_guide/indexing.html#returning-a-view-versus-a-copy\n",
      "\n",
      "  df_animals[\"Удой л/день\"][mask_male] = np.nan\n",
      "/var/folders/wx/t_ps87396x57bwpc30093rch0000gn/T/ipykernel_49596/4235569056.py:4: SettingWithCopyWarning: \n",
      "A value is trying to be set on a copy of a slice from a DataFrame\n",
      "\n",
      "See the caveats in the documentation: https://pandas.pydata.org/pandas-docs/stable/user_guide/indexing.html#returning-a-view-versus-a-copy\n",
      "  df_animals[\"Удой л/день\"][mask_male] = np.nan\n"
     ]
    }
   ],
   "source": [
    "\n",
    "mask_male = df_animals[\"Пол\"] == \"Самец\"\n",
    "mask_female = df_animals[\"Пол\"] == \"Самка\"\n",
    "\n",
    "df_animals[\"Удой л/день\"][mask_male] = np.nan\n",
    "\n",
    "dataset_male = df_animals[df_animals[\"Пол\"] == \"Самец\"]\n",
    "dataset_female = df_animals[df_animals[\"Пол\"] == \"Самка\"]\n",
    "\n",
    "# Заполнение пропусков для самок по породе и полу\n",
    "df_animals['Удой л/день'] = df_animals.groupby(['Порода', 'Пол'])['Удой л/день'].transform(lambda x: x.fillna(x.mean()))\n",
    "df_animals['Прирост веса кг/день'] = df_animals.groupby(['Порода', 'Пол'])['Прирост веса кг/день'].transform(lambda x: x.fillna(x.mean()))\n",
    "df_animals['Фертильность (%)'] = df_animals.groupby(['Порода', 'Пол'])['Фертильность (%)'].transform(lambda x: x.fillna(x.mean()))\n"
   ]
  },
  {
   "cell_type": "code",
   "execution_count": 3,
   "metadata": {},
   "outputs": [],
   "source": [
    "# Объединение двух DataFrame по столбцу 'ID_особи'\n",
    "merged_df = pd.merge(df_animals, df_mutations, on='ID_особи', how='inner')\n",
    "\n",
    "# Фильтрация df_mutations по ID_особи из df_animals\n",
    "filtered_mutations = df_mutations[df_mutations['ID_особи'].isin(df_animals['ID_особи'])]\n",
    "# Фильтруем df_mutations по признакам\n",
    "relevant_traits = ['Фертильность (%)', 'Прирост веса кг/день', 'Здоровье (1-10)',\n",
    "       'Коэффициент инбридинга (F)', 'Упитанность', 'Удой л/день',\n",
    "       'Генетическая ценность (баллы)']\n",
    "filtered_mutations = df_mutations[df_mutations['Признак'].isin(relevant_traits)]\n",
    "\n",
    "# Объединяем с df_animals по ID_особи\n",
    "merged_relevant = pd.merge(df_animals, filtered_mutations, on='ID_особи', how='left')\n",
    "\n",
    "# Функция для расчёта влияния мутации\n",
    "def calculate_mutation_effect(row):\n",
    "    genotype, ref, alt, beta = row[\"Генотип коровы\"], row[\"ref\"], row[\"alt\"], row[\"beta\"]\n",
    "    if genotype == f\"{ref}/{ref}\":\n",
    "        return 1  # Нет влияния\n",
    "    elif genotype == f\"{ref}/{alt}\" or genotype == f\"{alt}/{ref}\":\n",
    "        return beta / 2  # Половина эффекта\n",
    "    elif genotype == f\"{alt}/{alt}\":\n",
    "        return beta  # Полный эффект\n",
    "    return np.nan  # Неизвестный генотип\n",
    "\n",
    "merged_df[\"mutation_effect\"] = merged_df.apply(calculate_mutation_effect, axis=1)"
   ]
  },
  {
   "cell_type": "code",
   "execution_count": 4,
   "metadata": {},
   "outputs": [],
   "source": [
    "merged_df.to_csv(root_directory / \"datasets\" / \"merged_df.csv\", index=False)\n",
    "df_animals.to_csv(root_directory / \"datasets\" / \"df_animals.csv\", index=False)"
   ]
  },
  {
   "cell_type": "code",
   "execution_count": null,
   "metadata": {},
   "outputs": [],
   "source": []
  }
 ],
 "metadata": {
  "kernelspec": {
   "display_name": ".cow_env",
   "language": "python",
   "name": "python3"
  },
  "language_info": {
   "codemirror_mode": {
    "name": "ipython",
    "version": 3
   },
   "file_extension": ".py",
   "mimetype": "text/x-python",
   "name": "python",
   "nbconvert_exporter": "python",
   "pygments_lexer": "ipython3",
   "version": "3.9.16"
  }
 },
 "nbformat": 4,
 "nbformat_minor": 2
}
