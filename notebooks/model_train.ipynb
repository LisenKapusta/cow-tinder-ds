{
 "cells": [
  {
   "cell_type": "code",
   "execution_count": 1,
   "metadata": {},
   "outputs": [],
   "source": [
    "from pathlib import Path\n",
    "import pandas as pd\n",
    "import numpy as np\n",
    "import tqdm\n",
    "import joblib"
   ]
  },
  {
   "cell_type": "code",
   "execution_count": 2,
   "metadata": {},
   "outputs": [],
   "source": [
    "# Динамическое получение текущей рабочей директории\n",
    "current_path = Path.cwd()  # Получает текущую рабочую директорию\n",
    "root_directory = current_path.parent"
   ]
  },
  {
   "cell_type": "code",
   "execution_count": 3,
   "metadata": {},
   "outputs": [],
   "source": [
    "\n",
    "df = pd.read_csv(root_directory / \"datasets\" / \"merged_df.csv\")"
   ]
  },
  {
   "cell_type": "code",
   "execution_count": 4,
   "metadata": {},
   "outputs": [],
   "source": [
    "pd.set_option('display.max_columns', None)"
   ]
  },
  {
   "cell_type": "markdown",
   "metadata": {},
   "source": [
    "## для Прирост массы кг/день"
   ]
  },
  {
   "cell_type": "code",
   "execution_count": 5,
   "metadata": {},
   "outputs": [],
   "source": [
    "\n",
    "# Данные о родителях\n",
    "df_родители = df[[\"ID_особи\", \"Пол\", \"Удой л/день\", \"Упитанность\", \n",
    "                   \"Коэффициент инбридинга (F)\", \"Прирост веса кг/день\", \n",
    "                   \"Здоровье (1-10)\", \"Фертильность (%)\", \n",
    "                   \"Генетическая ценность (баллы)\"]]\n",
    "\n",
    "# Присоединение отцов и матерей\n",
    "df = df.merge(\n",
    "    df_родители.add_suffix(\"_папа\"), \n",
    "    left_on=\"Родитель_папа\", \n",
    "    right_on=\"ID_особи_папа\", \n",
    "    how=\"left\"\n",
    ").merge(\n",
    "    df_родители.add_suffix(\"_мама\"), \n",
    "    left_on=\"Родитель_мама\", \n",
    "    right_on=\"ID_особи_мама\", \n",
    "    how=\"left\"\n",
    ")"
   ]
  },
  {
   "cell_type": "code",
   "execution_count": 6,
   "metadata": {},
   "outputs": [
    {
     "data": {
      "text/html": [
       "<div>\n",
       "<style scoped>\n",
       "    .dataframe tbody tr th:only-of-type {\n",
       "        vertical-align: middle;\n",
       "    }\n",
       "\n",
       "    .dataframe tbody tr th {\n",
       "        vertical-align: top;\n",
       "    }\n",
       "\n",
       "    .dataframe thead th {\n",
       "        text-align: right;\n",
       "    }\n",
       "</style>\n",
       "<table border=\"1\" class=\"dataframe\">\n",
       "  <thead>\n",
       "    <tr style=\"text-align: right;\">\n",
       "      <th></th>\n",
       "      <th>ID_особи</th>\n",
       "      <th>Пол</th>\n",
       "      <th>Порода</th>\n",
       "      <th>Дата_Рождения</th>\n",
       "      <th>Родитель_папа</th>\n",
       "      <th>Родитель_мама</th>\n",
       "      <th>Удой л/день</th>\n",
       "      <th>Упитанность</th>\n",
       "      <th>Коэффициент инбридинга (F)</th>\n",
       "      <th>Прирост веса кг/день</th>\n",
       "      <th>Здоровье (1-10)</th>\n",
       "      <th>Фертильность (%)</th>\n",
       "      <th>Генетическая ценность (баллы)</th>\n",
       "      <th>mutation_id</th>\n",
       "      <th>chrom</th>\n",
       "      <th>pos</th>\n",
       "      <th>ref</th>\n",
       "      <th>alt</th>\n",
       "      <th>Признак</th>\n",
       "      <th>beta</th>\n",
       "      <th>Генотип коровы</th>\n",
       "      <th>mutation_effect</th>\n",
       "      <th>ID_особи_папа</th>\n",
       "      <th>Пол_папа</th>\n",
       "      <th>Удой л/день_папа</th>\n",
       "      <th>Упитанность_папа</th>\n",
       "      <th>Коэффициент инбридинга (F)_папа</th>\n",
       "      <th>Прирост веса кг/день_папа</th>\n",
       "      <th>Здоровье (1-10)_папа</th>\n",
       "      <th>Фертильность (%)_папа</th>\n",
       "      <th>Генетическая ценность (баллы)_папа</th>\n",
       "      <th>ID_особи_мама</th>\n",
       "      <th>Пол_мама</th>\n",
       "      <th>Удой л/день_мама</th>\n",
       "      <th>Упитанность_мама</th>\n",
       "      <th>Коэффициент инбридинга (F)_мама</th>\n",
       "      <th>Прирост веса кг/день_мама</th>\n",
       "      <th>Здоровье (1-10)_мама</th>\n",
       "      <th>Фертильность (%)_мама</th>\n",
       "      <th>Генетическая ценность (баллы)_мама</th>\n",
       "    </tr>\n",
       "  </thead>\n",
       "  <tbody>\n",
       "    <tr>\n",
       "      <th>0</th>\n",
       "      <td>1</td>\n",
       "      <td>Самка</td>\n",
       "      <td>Симентальская</td>\n",
       "      <td>2022-12-22</td>\n",
       "      <td>1996</td>\n",
       "      <td>150</td>\n",
       "      <td>30.464534</td>\n",
       "      <td>4</td>\n",
       "      <td>0.17</td>\n",
       "      <td>1.146774</td>\n",
       "      <td>8</td>\n",
       "      <td>76.0</td>\n",
       "      <td>93</td>\n",
       "      <td>mut_000001</td>\n",
       "      <td>4</td>\n",
       "      <td>39128359</td>\n",
       "      <td>G</td>\n",
       "      <td>T</td>\n",
       "      <td>Фертильность (%)</td>\n",
       "      <td>9.52</td>\n",
       "      <td>T/T</td>\n",
       "      <td>9.52</td>\n",
       "      <td>1996.0</td>\n",
       "      <td>Самец</td>\n",
       "      <td>NaN</td>\n",
       "      <td>3.0</td>\n",
       "      <td>0.02</td>\n",
       "      <td>1.09</td>\n",
       "      <td>6.0</td>\n",
       "      <td>76.0</td>\n",
       "      <td>73.0</td>\n",
       "      <td>150.0</td>\n",
       "      <td>Самка</td>\n",
       "      <td>30.151136</td>\n",
       "      <td>4.0</td>\n",
       "      <td>0.02</td>\n",
       "      <td>1.22</td>\n",
       "      <td>5.0</td>\n",
       "      <td>85.0</td>\n",
       "      <td>70.0</td>\n",
       "    </tr>\n",
       "    <tr>\n",
       "      <th>1</th>\n",
       "      <td>1</td>\n",
       "      <td>Самка</td>\n",
       "      <td>Симентальская</td>\n",
       "      <td>2022-12-22</td>\n",
       "      <td>1996</td>\n",
       "      <td>150</td>\n",
       "      <td>30.464534</td>\n",
       "      <td>4</td>\n",
       "      <td>0.17</td>\n",
       "      <td>1.146774</td>\n",
       "      <td>8</td>\n",
       "      <td>76.0</td>\n",
       "      <td>93</td>\n",
       "      <td>mut_000001</td>\n",
       "      <td>4</td>\n",
       "      <td>39128359</td>\n",
       "      <td>G</td>\n",
       "      <td>T</td>\n",
       "      <td>Фертильность (%)</td>\n",
       "      <td>9.52</td>\n",
       "      <td>T/T</td>\n",
       "      <td>9.52</td>\n",
       "      <td>1996.0</td>\n",
       "      <td>Самец</td>\n",
       "      <td>NaN</td>\n",
       "      <td>3.0</td>\n",
       "      <td>0.02</td>\n",
       "      <td>1.09</td>\n",
       "      <td>6.0</td>\n",
       "      <td>76.0</td>\n",
       "      <td>73.0</td>\n",
       "      <td>150.0</td>\n",
       "      <td>Самка</td>\n",
       "      <td>30.151136</td>\n",
       "      <td>4.0</td>\n",
       "      <td>0.02</td>\n",
       "      <td>1.22</td>\n",
       "      <td>5.0</td>\n",
       "      <td>85.0</td>\n",
       "      <td>70.0</td>\n",
       "    </tr>\n",
       "    <tr>\n",
       "      <th>2</th>\n",
       "      <td>1</td>\n",
       "      <td>Самка</td>\n",
       "      <td>Симентальская</td>\n",
       "      <td>2022-12-22</td>\n",
       "      <td>1996</td>\n",
       "      <td>150</td>\n",
       "      <td>30.464534</td>\n",
       "      <td>4</td>\n",
       "      <td>0.17</td>\n",
       "      <td>1.146774</td>\n",
       "      <td>8</td>\n",
       "      <td>76.0</td>\n",
       "      <td>93</td>\n",
       "      <td>mut_000002</td>\n",
       "      <td>6</td>\n",
       "      <td>5624123</td>\n",
       "      <td>T</td>\n",
       "      <td>A</td>\n",
       "      <td>Прирост веса кг/день</td>\n",
       "      <td>-6.76</td>\n",
       "      <td>A/A</td>\n",
       "      <td>-6.76</td>\n",
       "      <td>1996.0</td>\n",
       "      <td>Самец</td>\n",
       "      <td>NaN</td>\n",
       "      <td>3.0</td>\n",
       "      <td>0.02</td>\n",
       "      <td>1.09</td>\n",
       "      <td>6.0</td>\n",
       "      <td>76.0</td>\n",
       "      <td>73.0</td>\n",
       "      <td>150.0</td>\n",
       "      <td>Самка</td>\n",
       "      <td>30.151136</td>\n",
       "      <td>4.0</td>\n",
       "      <td>0.02</td>\n",
       "      <td>1.22</td>\n",
       "      <td>5.0</td>\n",
       "      <td>85.0</td>\n",
       "      <td>70.0</td>\n",
       "    </tr>\n",
       "    <tr>\n",
       "      <th>3</th>\n",
       "      <td>1</td>\n",
       "      <td>Самка</td>\n",
       "      <td>Симентальская</td>\n",
       "      <td>2022-12-22</td>\n",
       "      <td>1996</td>\n",
       "      <td>150</td>\n",
       "      <td>30.464534</td>\n",
       "      <td>4</td>\n",
       "      <td>0.17</td>\n",
       "      <td>1.146774</td>\n",
       "      <td>8</td>\n",
       "      <td>76.0</td>\n",
       "      <td>93</td>\n",
       "      <td>mut_000002</td>\n",
       "      <td>6</td>\n",
       "      <td>5624123</td>\n",
       "      <td>T</td>\n",
       "      <td>A</td>\n",
       "      <td>Прирост веса кг/день</td>\n",
       "      <td>-6.76</td>\n",
       "      <td>A/A</td>\n",
       "      <td>-6.76</td>\n",
       "      <td>1996.0</td>\n",
       "      <td>Самец</td>\n",
       "      <td>NaN</td>\n",
       "      <td>3.0</td>\n",
       "      <td>0.02</td>\n",
       "      <td>1.09</td>\n",
       "      <td>6.0</td>\n",
       "      <td>76.0</td>\n",
       "      <td>73.0</td>\n",
       "      <td>150.0</td>\n",
       "      <td>Самка</td>\n",
       "      <td>30.151136</td>\n",
       "      <td>4.0</td>\n",
       "      <td>0.02</td>\n",
       "      <td>1.22</td>\n",
       "      <td>5.0</td>\n",
       "      <td>85.0</td>\n",
       "      <td>70.0</td>\n",
       "    </tr>\n",
       "    <tr>\n",
       "      <th>4</th>\n",
       "      <td>1</td>\n",
       "      <td>Самка</td>\n",
       "      <td>Симентальская</td>\n",
       "      <td>2022-12-22</td>\n",
       "      <td>1996</td>\n",
       "      <td>150</td>\n",
       "      <td>30.464534</td>\n",
       "      <td>4</td>\n",
       "      <td>0.17</td>\n",
       "      <td>1.146774</td>\n",
       "      <td>8</td>\n",
       "      <td>76.0</td>\n",
       "      <td>93</td>\n",
       "      <td>mut_000003</td>\n",
       "      <td>26</td>\n",
       "      <td>41747388</td>\n",
       "      <td>T</td>\n",
       "      <td>A</td>\n",
       "      <td>Здоровье (1-10)</td>\n",
       "      <td>-2.64</td>\n",
       "      <td>T/T</td>\n",
       "      <td>1.00</td>\n",
       "      <td>1996.0</td>\n",
       "      <td>Самец</td>\n",
       "      <td>NaN</td>\n",
       "      <td>3.0</td>\n",
       "      <td>0.02</td>\n",
       "      <td>1.09</td>\n",
       "      <td>6.0</td>\n",
       "      <td>76.0</td>\n",
       "      <td>73.0</td>\n",
       "      <td>150.0</td>\n",
       "      <td>Самка</td>\n",
       "      <td>30.151136</td>\n",
       "      <td>4.0</td>\n",
       "      <td>0.02</td>\n",
       "      <td>1.22</td>\n",
       "      <td>5.0</td>\n",
       "      <td>85.0</td>\n",
       "      <td>70.0</td>\n",
       "    </tr>\n",
       "  </tbody>\n",
       "</table>\n",
       "</div>"
      ],
      "text/plain": [
       "   ID_особи    Пол         Порода Дата_Рождения  Родитель_папа  Родитель_мама  \\\n",
       "0         1  Самка  Симентальская    2022-12-22           1996            150   \n",
       "1         1  Самка  Симентальская    2022-12-22           1996            150   \n",
       "2         1  Самка  Симентальская    2022-12-22           1996            150   \n",
       "3         1  Самка  Симентальская    2022-12-22           1996            150   \n",
       "4         1  Самка  Симентальская    2022-12-22           1996            150   \n",
       "\n",
       "   Удой л/день  Упитанность  Коэффициент инбридинга (F)  Прирост веса кг/день  \\\n",
       "0    30.464534            4                        0.17              1.146774   \n",
       "1    30.464534            4                        0.17              1.146774   \n",
       "2    30.464534            4                        0.17              1.146774   \n",
       "3    30.464534            4                        0.17              1.146774   \n",
       "4    30.464534            4                        0.17              1.146774   \n",
       "\n",
       "   Здоровье (1-10)  Фертильность (%)  Генетическая ценность (баллы)  \\\n",
       "0                8              76.0                             93   \n",
       "1                8              76.0                             93   \n",
       "2                8              76.0                             93   \n",
       "3                8              76.0                             93   \n",
       "4                8              76.0                             93   \n",
       "\n",
       "  mutation_id  chrom       pos ref alt               Признак  beta  \\\n",
       "0  mut_000001      4  39128359   G   T      Фертильность (%)  9.52   \n",
       "1  mut_000001      4  39128359   G   T      Фертильность (%)  9.52   \n",
       "2  mut_000002      6   5624123   T   A  Прирост веса кг/день -6.76   \n",
       "3  mut_000002      6   5624123   T   A  Прирост веса кг/день -6.76   \n",
       "4  mut_000003     26  41747388   T   A       Здоровье (1-10) -2.64   \n",
       "\n",
       "  Генотип коровы  mutation_effect  ID_особи_папа Пол_папа  Удой л/день_папа  \\\n",
       "0            T/T             9.52         1996.0    Самец               NaN   \n",
       "1            T/T             9.52         1996.0    Самец               NaN   \n",
       "2            A/A            -6.76         1996.0    Самец               NaN   \n",
       "3            A/A            -6.76         1996.0    Самец               NaN   \n",
       "4            T/T             1.00         1996.0    Самец               NaN   \n",
       "\n",
       "   Упитанность_папа  Коэффициент инбридинга (F)_папа  \\\n",
       "0               3.0                             0.02   \n",
       "1               3.0                             0.02   \n",
       "2               3.0                             0.02   \n",
       "3               3.0                             0.02   \n",
       "4               3.0                             0.02   \n",
       "\n",
       "   Прирост веса кг/день_папа  Здоровье (1-10)_папа  Фертильность (%)_папа  \\\n",
       "0                       1.09                   6.0                   76.0   \n",
       "1                       1.09                   6.0                   76.0   \n",
       "2                       1.09                   6.0                   76.0   \n",
       "3                       1.09                   6.0                   76.0   \n",
       "4                       1.09                   6.0                   76.0   \n",
       "\n",
       "   Генетическая ценность (баллы)_папа  ID_особи_мама Пол_мама  \\\n",
       "0                                73.0          150.0    Самка   \n",
       "1                                73.0          150.0    Самка   \n",
       "2                                73.0          150.0    Самка   \n",
       "3                                73.0          150.0    Самка   \n",
       "4                                73.0          150.0    Самка   \n",
       "\n",
       "   Удой л/день_мама  Упитанность_мама  Коэффициент инбридинга (F)_мама  \\\n",
       "0         30.151136               4.0                             0.02   \n",
       "1         30.151136               4.0                             0.02   \n",
       "2         30.151136               4.0                             0.02   \n",
       "3         30.151136               4.0                             0.02   \n",
       "4         30.151136               4.0                             0.02   \n",
       "\n",
       "   Прирост веса кг/день_мама  Здоровье (1-10)_мама  Фертильность (%)_мама  \\\n",
       "0                       1.22                   5.0                   85.0   \n",
       "1                       1.22                   5.0                   85.0   \n",
       "2                       1.22                   5.0                   85.0   \n",
       "3                       1.22                   5.0                   85.0   \n",
       "4                       1.22                   5.0                   85.0   \n",
       "\n",
       "   Генетическая ценность (баллы)_мама  \n",
       "0                                70.0  \n",
       "1                                70.0  \n",
       "2                                70.0  \n",
       "3                                70.0  \n",
       "4                                70.0  "
      ]
     },
     "execution_count": 6,
     "metadata": {},
     "output_type": "execute_result"
    }
   ],
   "source": [
    "df.head()"
   ]
  },
  {
   "cell_type": "code",
   "execution_count": 7,
   "metadata": {},
   "outputs": [
    {
     "name": "stdout",
     "output_type": "stream",
     "text": [
      "R2: 0.99\n",
      "MAE: 0.00\n"
     ]
    }
   ],
   "source": [
    "from sklearn.ensemble import RandomForestRegressor\n",
    "from sklearn.model_selection import train_test_split\n",
    "from sklearn.metrics import mean_absolute_error, r2_score\n",
    "\n",
    "# Признаки для модели (данные о родителях)\n",
    "features = [\n",
    "    \"Упитанность_мама\", \"Коэффициент инбридинга (F)_мама\", \"Прирост веса кг/день_мама\", \n",
    "    \"Здоровье (1-10)_мама\", \"Фертильность (%)_мама\", \"Генетическая ценность (баллы)_мама\",\n",
    "    \"Упитанность_папа\", \"Коэффициент инбридинга (F)_папа\", \"Прирост веса кг/день_папа\", \n",
    "    \"Здоровье (1-10)_папа\", \"Фертильность (%)_папа\", \"Генетическая ценность (баллы)_папа\"\n",
    "]\n",
    "\n",
    "# Целевая переменная - Прирост веса кг/день\n",
    "target = \"Прирост веса кг/день\"\n",
    "\n",
    "# Подготовка данных для обучения\n",
    "X = df[features].fillna(0)  # Заполнение пропусков 0\n",
    "y = df[target]\n",
    "\n",
    "# Разделение данных на обучающую и тестовую выборки (80% на обучение, 20% на тест)\n",
    "X_train, X_test, y_train, y_test = train_test_split(X, y, test_size=0.2, random_state=42)\n",
    "\n",
    "# Обучение модели\n",
    "model_growth = RandomForestRegressor(random_state=42)\n",
    "model_growth.fit(X_train, y_train)\n",
    "\n",
    "# Оценка качества модели\n",
    "y_pred = model_growth.predict(X_test)\n",
    "print(f\"R2: {r2_score(y_test, y_pred):.2f}\")\n",
    "print(f\"MAE: {mean_absolute_error(y_test, y_pred):.2f}\")\n"
   ]
  },
  {
   "cell_type": "code",
   "execution_count": 8,
   "metadata": {},
   "outputs": [],
   "source": [
    "def predict_growth(родитель_папа, родитель_мама, model_growth, df):\n",
    "    # Данные о родителях\n",
    "    parent_data = df[(df[\"ID_особи\"] == родитель_папа) | (df[\"ID_особи\"] == родитель_мама)]\n",
    "    \n",
    "    if parent_data.shape[0] < 2:\n",
    "        raise ValueError(\"Не найдены оба родителя в таблице!\")\n",
    "    \n",
    "    мама = parent_data[parent_data[\"ID_особи\"] == родитель_мама].iloc[0]\n",
    "    папа = parent_data[parent_data[\"ID_особи\"] == родитель_папа].iloc[0]\n",
    "    \n",
    "    # Формируем признаки для предсказания\n",
    "    input_data = pd.DataFrame([{\n",
    "        \"Упитанность_мама\": мама[\"Упитанность\"],\n",
    "        \"Коэффициент инбридинга (F)_мама\": мама[\"Коэффициент инбридинга (F)\"],\n",
    "        \"Прирост веса кг/день_мама\": мама[\"Прирост веса кг/день\"],\n",
    "        \"Здоровье (1-10)_мама\": мама[\"Здоровье (1-10)\"],\n",
    "        \"Фертильность (%)_мама\": мама[\"Фертильность (%)\"],\n",
    "        \"Генетическая ценность (баллы)_мама\": мама[\"Генетическая ценность (баллы)\"],\n",
    "        \"Упитанность_папа\": папа[\"Упитанность\"],\n",
    "        \"Коэффициент инбридинга (F)_папа\": папа[\"Коэффициент инбридинга (F)\"],\n",
    "        \"Прирост веса кг/день_папа\": папа[\"Прирост веса кг/день\"],\n",
    "        \"Здоровье (1-10)_папа\": папа[\"Здоровье (1-10)\"],\n",
    "        \"Фертильность (%)_папа\": папа[\"Фертильность (%)\"],\n",
    "        \"Генетическая ценность (баллы)_папа\": папа[\"Генетическая ценность (баллы)\"]\n",
    "    }])\n",
    "    \n",
    "    # Предсказание прироста массы\n",
    "    predicted_growth = model_growth.predict(input_data)[0]\n",
    "    \n",
    "    # Формирование данных о потомке\n",
    "    offspring = {\n",
    "        \"ID_особи\": f\"{родитель_мама}_{родитель_папа}_child\",  # ID потомка\n",
    "        \"Прирост веса кг/день\": predicted_growth\n",
    "    }\n",
    "    return offspring\n"
   ]
  },
  {
   "cell_type": "code",
   "execution_count": 9,
   "metadata": {},
   "outputs": [
    {
     "name": "stdout",
     "output_type": "stream",
     "text": [
      "{'ID_особи': '150_1996_child', 'Прирост веса кг/день': np.float64(1.1470095838133623)}\n"
     ]
    }
   ],
   "source": [
    "# Пример предсказания прироста массы для потомка\n",
    "offspring_growth = predict_growth(родитель_папа=1996, родитель_мама=150, model_growth=model_growth, df=df)\n",
    "print(offspring_growth)\n"
   ]
  },
  {
   "cell_type": "code",
   "execution_count": 10,
   "metadata": {},
   "outputs": [
    {
     "data": {
      "text/plain": [
       "['/Users/holodkovaelizavetaigorevna/Downloads/hakaton/models/model_growth.pkl']"
      ]
     },
     "execution_count": 10,
     "metadata": {},
     "output_type": "execute_result"
    }
   ],
   "source": [
    "# Сохранение модели\n",
    "joblib.dump(model_growth, root_directory / \"models\" / \"model_growth.pkl\")\n"
   ]
  },
  {
   "cell_type": "markdown",
   "metadata": {},
   "source": [
    "## Фертильность"
   ]
  },
  {
   "cell_type": "code",
   "execution_count": 11,
   "metadata": {},
   "outputs": [
    {
     "name": "stdout",
     "output_type": "stream",
     "text": [
      "R2: 0.99\n",
      "MAE: 0.07\n"
     ]
    }
   ],
   "source": [
    "\n",
    "# Признаки для модели (данные о родителях)\n",
    "features = [\n",
    "    \"Упитанность_мама\", \"Коэффициент инбридинга (F)_мама\", \"Прирост веса кг/день_мама\", \n",
    "    \"Здоровье (1-10)_мама\", \"Фертильность (%)_мама\", \"Генетическая ценность (баллы)_мама\",\n",
    "    \"Упитанность_папа\", \"Коэффициент инбридинга (F)_папа\", \"Прирост веса кг/день_папа\", \n",
    "    \"Здоровье (1-10)_папа\", \"Фертильность (%)_папа\", \"Генетическая ценность (баллы)_папа\"\n",
    "]\n",
    "\n",
    "# Целевая переменная - Фертильность (%)\n",
    "target = \"Фертильность (%)\"\n",
    "\n",
    "# Подготовка данных для обучения\n",
    "X = df[features].fillna(0)  # Заполнение пропусков 0\n",
    "y = df[target]\n",
    "\n",
    "# Разделение данных на обучающую и тестовую выборки (80% на обучение, 20% на тест)\n",
    "X_train, X_test, y_train, y_test = train_test_split(X, y, test_size=0.2, random_state=42)\n",
    "\n",
    "# Обучение модели\n",
    "model_fertility = RandomForestRegressor(random_state=42)\n",
    "model_fertility.fit(X_train, y_train)\n",
    "\n",
    "# Оценка качества модели\n",
    "y_pred = model_fertility.predict(X_test)\n",
    "print(f\"R2: {r2_score(y_test, y_pred):.2f}\")\n",
    "print(f\"MAE: {mean_absolute_error(y_test, y_pred):.2f}\")\n"
   ]
  },
  {
   "cell_type": "code",
   "execution_count": 12,
   "metadata": {},
   "outputs": [],
   "source": [
    "def predict_fertility(родитель_папа, родитель_мама, model_fertility, df):\n",
    "    # Данные о родителях\n",
    "    parent_data = df[(df[\"ID_особи\"] == родитель_папа) | (df[\"ID_особи\"] == родитель_мама)]\n",
    "    \n",
    "    if parent_data.shape[0] < 2:\n",
    "        raise ValueError(\"Не найдены оба родителя в таблице!\")\n",
    "    \n",
    "    мама = parent_data[parent_data[\"ID_особи\"] == родитель_мама].iloc[0]\n",
    "    папа = parent_data[parent_data[\"ID_особи\"] == родитель_папа].iloc[0]\n",
    "    \n",
    "    # Формируем признаки для предсказания\n",
    "    input_data = pd.DataFrame([{\n",
    "        \"Упитанность_мама\": мама[\"Упитанность\"],\n",
    "        \"Коэффициент инбридинга (F)_мама\": мама[\"Коэффициент инбридинга (F)\"],\n",
    "        \"Прирост веса кг/день_мама\": мама[\"Прирост веса кг/день\"],\n",
    "        \"Здоровье (1-10)_мама\": мама[\"Здоровье (1-10)\"],\n",
    "        \"Фертильность (%)_мама\": мама[\"Фертильность (%)\"],\n",
    "        \"Генетическая ценность (баллы)_мама\": мама[\"Генетическая ценность (баллы)\"],\n",
    "        \"Упитанность_папа\": папа[\"Упитанность\"],\n",
    "        \"Коэффициент инбридинга (F)_папа\": папа[\"Коэффициент инбридинга (F)\"],\n",
    "        \"Прирост веса кг/день_папа\": папа[\"Прирост веса кг/день\"],\n",
    "        \"Здоровье (1-10)_папа\": папа[\"Здоровье (1-10)\"],\n",
    "        \"Фертильность (%)_папа\": папа[\"Фертильность (%)\"],\n",
    "        \"Генетическая ценность (баллы)_папа\": папа[\"Генетическая ценность (баллы)\"]\n",
    "    }])\n",
    "    \n",
    "    # Предсказание фертильности\n",
    "    predicted_fertility = model_fertility.predict(input_data)[0]\n",
    "    \n",
    "    # Формирование данных о потомке\n",
    "    offspring = {\n",
    "        \"ID_особи\": f\"{родитель_мама}_{родитель_папа}_child\",  # ID потомка\n",
    "        \"Фертильность (%)\": predicted_fertility\n",
    "    }\n",
    "    return offspring\n"
   ]
  },
  {
   "cell_type": "code",
   "execution_count": 13,
   "metadata": {},
   "outputs": [
    {
     "data": {
      "text/plain": [
       "{'ID_особи': '150_1996_child',\n",
       " 'Фертильность (%)': np.float64(76.26175780734252)}"
      ]
     },
     "execution_count": 13,
     "metadata": {},
     "output_type": "execute_result"
    }
   ],
   "source": [
    "# Пример предсказания фертильности для потомка\n",
    "offspring_fertility = predict_fertility(родитель_папа=1996, родитель_мама=150, model_fertility=model_fertility, df=df)\n",
    "offspring_fertility"
   ]
  },
  {
   "cell_type": "code",
   "execution_count": 14,
   "metadata": {},
   "outputs": [
    {
     "data": {
      "text/plain": [
       "['/Users/holodkovaelizavetaigorevna/Downloads/hakaton/models/model_fertility.pkl']"
      ]
     },
     "execution_count": 14,
     "metadata": {},
     "output_type": "execute_result"
    }
   ],
   "source": [
    "# Сохранение модели\n",
    "joblib.dump(model_fertility, root_directory / \"models\" / \"model_fertility.pkl\")"
   ]
  },
  {
   "cell_type": "markdown",
   "metadata": {},
   "source": [
    "## Здоровье"
   ]
  },
  {
   "cell_type": "code",
   "execution_count": 15,
   "metadata": {},
   "outputs": [
    {
     "name": "stdout",
     "output_type": "stream",
     "text": [
      "R2: 0.99\n",
      "MAE: 0.03\n"
     ]
    }
   ],
   "source": [
    "\n",
    "# Признаки для модели (данные о родителях)\n",
    "features = [\n",
    "    \"Упитанность_мама\", \"Коэффициент инбридинга (F)_мама\", \"Прирост веса кг/день_мама\", \n",
    "    \"Фертильность (%)_мама\", \"Здоровье (1-10)_мама\", \"Генетическая ценность (баллы)_мама\",\n",
    "    \"Упитанность_папа\", \"Коэффициент инбридинга (F)_папа\", \"Прирост веса кг/день_папа\", \n",
    "    \"Фертильность (%)_папа\", \"Здоровье (1-10)_папа\", \"Генетическая ценность (баллы)_папа\"\n",
    "]\n",
    "\n",
    "# Целевая переменная - Здоровье (1-10)\n",
    "target = \"Здоровье (1-10)\"\n",
    "\n",
    "# Подготовка данных для обучения\n",
    "X = df[features].fillna(0)  # Заполнение пропусков 0\n",
    "y = df[target]\n",
    "\n",
    "# Разделение данных на обучающую и тестовую выборки (80% на обучение, 20% на тест)\n",
    "X_train, X_test, y_train, y_test = train_test_split(X, y, test_size=0.2, random_state=42)\n",
    "\n",
    "# Обучение модели\n",
    "model_health = RandomForestRegressor(random_state=42)\n",
    "model_health.fit(X_train, y_train)\n",
    "\n",
    "# Оценка качества модели\n",
    "y_pred = model_health.predict(X_test)\n",
    "print(f\"R2: {r2_score(y_test, y_pred):.2f}\")\n",
    "print(f\"MAE: {mean_absolute_error(y_test, y_pred):.2f}\")\n"
   ]
  },
  {
   "cell_type": "code",
   "execution_count": 16,
   "metadata": {},
   "outputs": [],
   "source": [
    "def predict_health(родитель_папа, родитель_мама, model_health, df):\n",
    "    # Данные о родителях\n",
    "    parent_data = df[(df[\"ID_особи\"] == родитель_папа) | (df[\"ID_особи\"] == родитель_мама)]\n",
    "    \n",
    "    if parent_data.shape[0] < 2:\n",
    "        raise ValueError(\"Не найдены оба родителя в таблице!\")\n",
    "    \n",
    "    мама = parent_data[parent_data[\"ID_особи\"] == родитель_мама].iloc[0]\n",
    "    папа = parent_data[parent_data[\"ID_особи\"] == родитель_папа].iloc[0]\n",
    "    \n",
    "    # Формируем признаки для предсказания\n",
    "    input_data = pd.DataFrame([{\n",
    "        \"Упитанность_мама\": мама[\"Упитанность\"],\n",
    "        \"Коэффициент инбридинга (F)_мама\": мама[\"Коэффициент инбридинга (F)\"],\n",
    "        \"Прирост веса кг/день_мама\": мама[\"Прирост веса кг/день\"],\n",
    "        \"Фертильность (%)_мама\": мама[\"Фертильность (%)\"],\n",
    "        \"Здоровье (1-10)_мама\": мама[\"Здоровье (1-10)\"],\n",
    "        \"Генетическая ценность (баллы)_мама\": мама[\"Генетическая ценность (баллы)\"],\n",
    "        \"Упитанность_папа\": папа[\"Упитанность\"],\n",
    "        \"Коэффициент инбридинга (F)_папа\": папа[\"Коэффициент инбридинга (F)\"],\n",
    "        \"Прирост веса кг/день_папа\": папа[\"Прирост веса кг/день\"],\n",
    "        \"Фертильность (%)_папа\": папа[\"Фертильность (%)\"],\n",
    "        \"Здоровье (1-10)_папа\": папа[\"Здоровье (1-10)\"],\n",
    "        \"Генетическая ценность (баллы)_папа\": папа[\"Генетическая ценность (баллы)\"]\n",
    "    }])\n",
    "    \n",
    "    # Предсказание здоровья\n",
    "    predicted_health = model_health.predict(input_data)[0]\n",
    "    \n",
    "    # Формирование данных о потомке\n",
    "    offspring = {\n",
    "        \"ID_особи\": f\"{родитель_мама}_{родитель_папа}_child\",  # ID потомка\n",
    "        \"Здоровье (1-10)\": predicted_health\n",
    "    }\n",
    "    return offspring\n"
   ]
  },
  {
   "cell_type": "code",
   "execution_count": 17,
   "metadata": {},
   "outputs": [
    {
     "name": "stdout",
     "output_type": "stream",
     "text": [
      "{'ID_особи': '150_1996_child', 'Здоровье (1-10)': np.float64(7.97)}\n"
     ]
    }
   ],
   "source": [
    "# Пример предсказания здоровья для потомка\n",
    "offspring_health = predict_health(родитель_папа=1996, родитель_мама=150, model_health=model_health, df=df)\n",
    "print(offspring_health)\n"
   ]
  },
  {
   "cell_type": "code",
   "execution_count": 18,
   "metadata": {},
   "outputs": [
    {
     "data": {
      "text/plain": [
       "['/Users/holodkovaelizavetaigorevna/Downloads/hakaton/models/model_health.pkl']"
      ]
     },
     "execution_count": 18,
     "metadata": {},
     "output_type": "execute_result"
    }
   ],
   "source": [
    "# Сохранение модели\n",
    "joblib.dump(model_health, root_directory / \"models\" / \"model_health.pkl\")"
   ]
  },
  {
   "cell_type": "markdown",
   "metadata": {},
   "source": [
    "## Коэффициент инбридинга"
   ]
  },
  {
   "cell_type": "code",
   "execution_count": 19,
   "metadata": {},
   "outputs": [
    {
     "name": "stdout",
     "output_type": "stream",
     "text": [
      "R2: 0.99\n",
      "MAE: 0.00\n"
     ]
    }
   ],
   "source": [
    "\n",
    "# Признаки для модели (данные о родителях)\n",
    "features = [\n",
    "    \"Упитанность_мама\", \"Прирост веса кг/день_мама\", \"Фертильность (%)_мама\", \n",
    "    \"Здоровье (1-10)_мама\", \"Генетическая ценность (баллы)_мама\",\n",
    "    \"Упитанность_папа\", \"Прирост веса кг/день_папа\", \"Фертильность (%)_папа\", \n",
    "    \"Здоровье (1-10)_папа\", \"Генетическая ценность (баллы)_папа\"\n",
    "]\n",
    "\n",
    "# Целевая переменная - Коэффициент инбридинга (F)\n",
    "target = \"Коэффициент инбридинга (F)\"\n",
    "\n",
    "# Подготовка данных для обучения\n",
    "X = df[features].fillna(0)  # Заполнение пропусков 0\n",
    "y = df[target]\n",
    "\n",
    "# Разделение данных на обучающую и тестовую выборки (80% на обучение, 20% на тест)\n",
    "X_train, X_test, y_train, y_test = train_test_split(X, y, test_size=0.2, random_state=42)\n",
    "\n",
    "# Обучение модели\n",
    "model_inbreeding = RandomForestRegressor(random_state=42)\n",
    "model_inbreeding.fit(X_train, y_train)\n",
    "\n",
    "# Оценка качества модели\n",
    "y_pred = model_inbreeding.predict(X_test)\n",
    "print(f\"R2: {r2_score(y_test, y_pred):.2f}\")\n",
    "print(f\"MAE: {mean_absolute_error(y_test, y_pred):.2f}\")\n"
   ]
  },
  {
   "cell_type": "code",
   "execution_count": 20,
   "metadata": {},
   "outputs": [],
   "source": [
    "def predict_inbreeding(родитель_папа, родитель_мама, model_inbreeding, df):\n",
    "    # Данные о родителях\n",
    "    parent_data = df[(df[\"ID_особи\"] == родитель_папа) | (df[\"ID_особи\"] == родитель_мама)]\n",
    "    \n",
    "    if parent_data.shape[0] < 2:\n",
    "        raise ValueError(\"Не найдены оба родителя в таблице!\")\n",
    "    \n",
    "    мама = parent_data[parent_data[\"ID_особи\"] == родитель_мама].iloc[0]\n",
    "    папа = parent_data[parent_data[\"ID_особи\"] == родитель_папа].iloc[0]\n",
    "    \n",
    "    # Формируем признаки для предсказания\n",
    "    input_data = pd.DataFrame([{\n",
    "        \"Упитанность_мама\": мама[\"Упитанность\"],\n",
    "        \"Прирост веса кг/день_мама\": мама[\"Прирост веса кг/день\"],\n",
    "        \"Фертильность (%)_мама\": мама[\"Фертильность (%)\"],\n",
    "        \"Здоровье (1-10)_мама\": мама[\"Здоровье (1-10)\"],\n",
    "        \"Генетическая ценность (баллы)_мама\": мама[\"Генетическая ценность (баллы)\"],\n",
    "        \"Упитанность_папа\": папа[\"Упитанность\"],\n",
    "        \"Прирост веса кг/день_папа\": папа[\"Прирост веса кг/день\"],\n",
    "        \"Фертильность (%)_папа\": папа[\"Фертильность (%)\"],\n",
    "        \"Здоровье (1-10)_папа\": папа[\"Здоровье (1-10)\"],\n",
    "        \"Генетическая ценность (баллы)_папа\": папа[\"Генетическая ценность (баллы)\"]\n",
    "    }])\n",
    "    \n",
    "    # Предсказание коэффициента инбридинга (F)\n",
    "    predicted_inbreeding = model_inbreeding.predict(input_data)[0]\n",
    "    \n",
    "    # Формирование данных о потомке\n",
    "    offspring = {\n",
    "        \"ID_особи\": f\"{родитель_мама}_{родитель_папа}_child\",  # ID потомка\n",
    "        \"Коэффициент инбридинга (F)\": predicted_inbreeding\n",
    "    }\n",
    "    return offspring\n"
   ]
  },
  {
   "cell_type": "code",
   "execution_count": 21,
   "metadata": {},
   "outputs": [
    {
     "name": "stdout",
     "output_type": "stream",
     "text": [
      "{'ID_особи': '150_1996_child', 'Коэффициент инбридинга (F)': np.float64(0.1656)}\n"
     ]
    }
   ],
   "source": [
    "# Пример предсказания коэффициента инбридинга для потомка\n",
    "offspring_inbreeding = predict_inbreeding(родитель_папа=1996, родитель_мама=150, model_inbreeding=model_inbreeding, df=df)\n",
    "print(offspring_inbreeding)\n"
   ]
  },
  {
   "cell_type": "code",
   "execution_count": 22,
   "metadata": {},
   "outputs": [
    {
     "data": {
      "text/plain": [
       "['/Users/holodkovaelizavetaigorevna/Downloads/hakaton/models/model_inbreeding.pkl']"
      ]
     },
     "execution_count": 22,
     "metadata": {},
     "output_type": "execute_result"
    }
   ],
   "source": [
    "# Сохранение модели\n",
    "joblib.dump(model_inbreeding, root_directory / \"models\" / \"model_inbreeding.pkl\")"
   ]
  },
  {
   "cell_type": "markdown",
   "metadata": {},
   "source": [
    "## Упитанность"
   ]
  },
  {
   "cell_type": "code",
   "execution_count": 23,
   "metadata": {},
   "outputs": [
    {
     "name": "stdout",
     "output_type": "stream",
     "text": [
      "R2: 0.99\n",
      "MAE: 0.01\n"
     ]
    }
   ],
   "source": [
    "\n",
    "# Признаки для модели (данные о родителях)\n",
    "features = [\n",
    "    \"Прирост веса кг/день_мама\", \"Фертильность (%)_мама\", \n",
    "    \"Здоровье (1-10)_мама\", \"Генетическая ценность (баллы)_мама\",\n",
    "    \"Прирост веса кг/день_папа\", \"Фертильность (%)_папа\", \n",
    "    \"Здоровье (1-10)_папа\", \"Генетическая ценность (баллы)_папа\"\n",
    "]\n",
    "\n",
    "# Целевая переменная - Упитанность\n",
    "target = \"Упитанность\"\n",
    "\n",
    "# Подготовка данных для обучения\n",
    "X = df[features].fillna(0)  # Заполнение пропусков 0\n",
    "y = df[target]\n",
    "\n",
    "# Разделение данных на обучающую и тестовую выборки (80% на обучение, 20% на тест)\n",
    "X_train, X_test, y_train, y_test = train_test_split(X, y, test_size=0.2, random_state=42)\n",
    "\n",
    "# Обучение модели\n",
    "model_upitannost = RandomForestRegressor(random_state=42)\n",
    "model_upitannost.fit(X_train, y_train)\n",
    "\n",
    "# Оценка качества модели\n",
    "y_pred = model_upitannost.predict(X_test)\n",
    "print(f\"R2: {r2_score(y_test, y_pred):.2f}\")\n",
    "print(f\"MAE: {mean_absolute_error(y_test, y_pred):.2f}\")\n"
   ]
  },
  {
   "cell_type": "code",
   "execution_count": 24,
   "metadata": {},
   "outputs": [],
   "source": [
    "def predict_upitannost(родитель_папа, родитель_мама, model_upitannost, df):\n",
    "    # Данные о родителях\n",
    "    parent_data = df[(df[\"ID_особи\"] == родитель_папа) | (df[\"ID_особи\"] == родитель_мама)]\n",
    "    \n",
    "    if parent_data.shape[0] < 2:\n",
    "        raise ValueError(\"Не найдены оба родителя в таблице!\")\n",
    "    \n",
    "    мама = parent_data[parent_data[\"ID_особи\"] == родитель_мама].iloc[0]\n",
    "    папа = parent_data[parent_data[\"ID_особи\"] == родитель_папа].iloc[0]\n",
    "    \n",
    "    # Формируем признаки для предсказания\n",
    "    input_data = pd.DataFrame([{\n",
    "        \"Прирост веса кг/день_мама\": мама[\"Прирост веса кг/день\"],\n",
    "        \"Фертильность (%)_мама\": мама[\"Фертильность (%)\"],\n",
    "        \"Здоровье (1-10)_мама\": мама[\"Здоровье (1-10)\"],\n",
    "        \"Генетическая ценность (баллы)_мама\": мама[\"Генетическая ценность (баллы)\"],\n",
    "        \"Прирост веса кг/день_папа\": папа[\"Прирост веса кг/день\"],\n",
    "        \"Фертильность (%)_папа\": папа[\"Фертильность (%)\"],\n",
    "        \"Здоровье (1-10)_папа\": папа[\"Здоровье (1-10)\"],\n",
    "        \"Генетическая ценность (баллы)_папа\": папа[\"Генетическая ценность (баллы)\"]\n",
    "    }])\n",
    "    \n",
    "    # Предсказание упитанности\n",
    "    predicted_upitannost = model_upitannost.predict(input_data)[0]\n",
    "    \n",
    "    # Формирование данных о потомке\n",
    "    offspring = {\n",
    "        \"ID_особи\": f\"{родитель_мама}_{родитель_папа}_child\",  # ID потомка\n",
    "        \"Упитанность\": predicted_upitannost\n",
    "    }\n",
    "    return offspring\n"
   ]
  },
  {
   "cell_type": "code",
   "execution_count": 25,
   "metadata": {},
   "outputs": [
    {
     "name": "stdout",
     "output_type": "stream",
     "text": [
      "{'ID_особи': '150_1996_child', 'Упитанность': np.float64(3.96)}\n"
     ]
    }
   ],
   "source": [
    "# Пример предсказания упитанности для потомка\n",
    "offspring_upitannost = predict_upitannost(родитель_папа=1996, родитель_мама=150, model_upitannost=model_upitannost, df=df)\n",
    "print(offspring_upitannost)\n"
   ]
  },
  {
   "cell_type": "code",
   "execution_count": 26,
   "metadata": {},
   "outputs": [
    {
     "data": {
      "text/plain": [
       "['/Users/holodkovaelizavetaigorevna/Downloads/hakaton/models/model_upitannost.pkl']"
      ]
     },
     "execution_count": 26,
     "metadata": {},
     "output_type": "execute_result"
    }
   ],
   "source": [
    "# Сохранение модели\n",
    "joblib.dump(model_upitannost, root_directory / \"models\" / \"model_upitannost.pkl\")"
   ]
  },
  {
   "cell_type": "markdown",
   "metadata": {},
   "source": [
    "## Генетическая ценность"
   ]
  },
  {
   "cell_type": "code",
   "execution_count": 27,
   "metadata": {},
   "outputs": [
    {
     "name": "stdout",
     "output_type": "stream",
     "text": [
      "R2: 0.98\n",
      "MAE: 0.19\n"
     ]
    }
   ],
   "source": [
    "\n",
    "# Признаки для модели (данные о родителях)\n",
    "features = [\n",
    "    \"Прирост веса кг/день_мама\", \"Фертильность (%)_мама\", \n",
    "    \"Здоровье (1-10)_мама\", \"Упитанность_мама\",\n",
    "    \"Прирост веса кг/день_папа\", \"Фертильность (%)_папа\", \n",
    "    \"Здоровье (1-10)_папа\", \"Упитанность_папа\"\n",
    "]\n",
    "\n",
    "# Целевая переменная - Генетическая ценность (баллы)\n",
    "target = \"Генетическая ценность (баллы)\"\n",
    "\n",
    "# Подготовка данных для обучения\n",
    "X = df[features].fillna(0)  # Заполнение пропусков 0\n",
    "y = df[target]\n",
    "\n",
    "# Разделение данных на обучающую и тестовую выборки (80% на обучение, 20% на тест)\n",
    "X_train, X_test, y_train, y_test = train_test_split(X, y, test_size=0.2, random_state=42)\n",
    "\n",
    "# Обучение модели\n",
    "model_genetic_value = RandomForestRegressor(random_state=42)\n",
    "model_genetic_value.fit(X_train, y_train)\n",
    "\n",
    "# Оценка качества модели\n",
    "y_pred = model_genetic_value.predict(X_test)\n",
    "print(f\"R2: {r2_score(y_test, y_pred):.2f}\")\n",
    "print(f\"MAE: {mean_absolute_error(y_test, y_pred):.2f}\")\n"
   ]
  },
  {
   "cell_type": "code",
   "execution_count": 28,
   "metadata": {},
   "outputs": [],
   "source": [
    "def predict_genetic_value(родитель_папа, родитель_мама, model_genetic_value, df):\n",
    "    # Данные о родителях\n",
    "    parent_data = df[(df[\"ID_особи\"] == родитель_папа) | (df[\"ID_особи\"] == родитель_мама)]\n",
    "    \n",
    "    if parent_data.shape[0] < 2:\n",
    "        raise ValueError(\"Не найдены оба родителя в таблице!\")\n",
    "    \n",
    "    мама = parent_data[parent_data[\"ID_особи\"] == родитель_мама].iloc[0]\n",
    "    папа = parent_data[parent_data[\"ID_особи\"] == родитель_папа].iloc[0]\n",
    "    \n",
    "    # Формируем признаки для предсказания\n",
    "    input_data = pd.DataFrame([{\n",
    "        \"Прирост веса кг/день_мама\": мама[\"Прирост веса кг/день\"],\n",
    "        \"Фертильность (%)_мама\": мама[\"Фертильность (%)\"],\n",
    "        \"Здоровье (1-10)_мама\": мама[\"Здоровье (1-10)\"],\n",
    "        \"Упитанность_мама\": мама[\"Упитанность\"],\n",
    "        \"Прирост веса кг/день_папа\": папа[\"Прирост веса кг/день\"],\n",
    "        \"Фертильность (%)_папа\": папа[\"Фертильность (%)\"],\n",
    "        \"Здоровье (1-10)_папа\": папа[\"Здоровье (1-10)\"],\n",
    "        \"Упитанность_папа\": папа[\"Упитанность\"]\n",
    "    }])\n",
    "    \n",
    "    # Предсказание генетической ценности\n",
    "    predicted_genetic_value = model_genetic_value.predict(input_data)[0]\n",
    "    \n",
    "    # Формирование данных о потомке\n",
    "    offspring = {\n",
    "        \"ID_особи\": f\"{родитель_мама}_{родитель_папа}_child\",  # ID потомка\n",
    "        \"Генетическая ценность (баллы)\": predicted_genetic_value\n",
    "    }\n",
    "    return offspring\n"
   ]
  },
  {
   "cell_type": "code",
   "execution_count": 29,
   "metadata": {},
   "outputs": [
    {
     "name": "stdout",
     "output_type": "stream",
     "text": [
      "{'ID_особи': '150_1996_child', 'Генетическая ценность (баллы)': np.float64(92.86)}\n"
     ]
    }
   ],
   "source": [
    "# Пример предсказания генетической ценности для потомка\n",
    "offspring_genetic_value = predict_genetic_value(родитель_папа=1996, родитель_мама=150, model_genetic_value=model_genetic_value, df=df)\n",
    "print(offspring_genetic_value)\n"
   ]
  },
  {
   "cell_type": "code",
   "execution_count": 30,
   "metadata": {},
   "outputs": [
    {
     "data": {
      "text/plain": [
       "['/Users/holodkovaelizavetaigorevna/Downloads/hakaton/models/model_genetic_value.pkl']"
      ]
     },
     "execution_count": 30,
     "metadata": {},
     "output_type": "execute_result"
    }
   ],
   "source": [
    "# Сохранение модели\n",
    "joblib.dump(model_genetic_value, root_directory / \"models\" / \"model_genetic_value.pkl\")"
   ]
  },
  {
   "cell_type": "markdown",
   "metadata": {},
   "source": [
    "## Удой"
   ]
  },
  {
   "cell_type": "code",
   "execution_count": 31,
   "metadata": {},
   "outputs": [
    {
     "name": "stdout",
     "output_type": "stream",
     "text": [
      "R2: 0.98\n",
      "MAE: 0.08\n"
     ]
    }
   ],
   "source": [
    "# Отфильтровываем только самок\n",
    "df_females = df[df[\"Пол\"] == \"Самка\"]\n",
    "\n",
    "# Признаки для модели\n",
    "features_udoy = [\n",
    "    \"Упитанность_мама\", \"Коэффициент инбридинга (F)_мама\", \"Прирост веса кг/день_мама\", \n",
    "    \"Здоровье (1-10)_мама\", \"Фертильность (%)_мама\", \"Генетическая ценность (баллы)_мама\",\n",
    "    \"Упитанность_папа\", \"Коэффициент инбридинга (F)_папа\", \"Прирост веса кг/день_папа\", \n",
    "    \"Здоровье (1-10)_папа\", \"Фертильность (%)_папа\", \"Генетическая ценность (баллы)_папа\"\n",
    "]\n",
    "\n",
    "# Целевая переменная - Удой л/день\n",
    "target_udoy = \"Удой л/день\"\n",
    "\n",
    "# Исключаем строки с пропущенными значениями в целевой переменной\n",
    "df_females = df_females.dropna(subset=[target_udoy])\n",
    "\n",
    "# Подготовка данных для обучения\n",
    "X_udoy = df_females[features_udoy].fillna(0)  # Заполнение пропусков 0\n",
    "y_udoy = df_females[target_udoy]\n",
    "\n",
    "# Разделение данных на обучающую и тестовую выборки\n",
    "X_train_udoy, X_test_udoy, y_train_udoy, y_test_udoy = train_test_split(X_udoy, y_udoy, test_size=0.2, random_state=42)\n",
    "\n",
    "# Обучение модели\n",
    "model_udoy = RandomForestRegressor(random_state=42)\n",
    "model_udoy.fit(X_train_udoy, y_train_udoy)\n",
    "\n",
    "# Оценка модели\n",
    "y_pred_udoy = model_udoy.predict(X_test_udoy)\n",
    "print(f\"R2: {r2_score(y_test_udoy, y_pred_udoy):.2f}\")\n",
    "print(f\"MAE: {mean_absolute_error(y_test_udoy, y_pred_udoy):.2f}\")\n"
   ]
  },
  {
   "cell_type": "code",
   "execution_count": 32,
   "metadata": {},
   "outputs": [],
   "source": [
    "def predict_udoy(родитель_папа, родитель_мама, model_udoy, df):\n",
    "    # Данные о родителях\n",
    "    parent_data = df[(df[\"ID_особи\"] == родитель_папа) | (df[\"ID_особи\"] == родитель_мама)]\n",
    "    \n",
    "    if parent_data.shape[0] < 2:\n",
    "        raise ValueError(\"Не найдены оба родителя в таблице!\")\n",
    "    \n",
    "    мама = parent_data[parent_data[\"ID_особи\"] == родитель_мама].iloc[0]\n",
    "    папа = parent_data[parent_data[\"ID_особи\"] == родитель_папа].iloc[0]\n",
    "    \n",
    "    # Формируем признаки для предсказания\n",
    "    input_data = pd.DataFrame([{\n",
    "        \"Упитанность_мама\": мама[\"Упитанность\"],\n",
    "        \"Коэффициент инбридинга (F)_мама\": мама[\"Коэффициент инбридинга (F)\"],\n",
    "        \"Прирост веса кг/день_мама\": мама[\"Прирост веса кг/день\"],\n",
    "        \"Здоровье (1-10)_мама\": мама[\"Здоровье (1-10)\"],\n",
    "        \"Фертильность (%)_мама\": мама[\"Фертильность (%)\"],\n",
    "        \"Генетическая ценность (баллы)_мама\": мама[\"Генетическая ценность (баллы)\"],\n",
    "        \"Упитанность_папа\": папа[\"Упитанность\"],\n",
    "        \"Коэффициент инбридинга (F)_папа\": папа[\"Коэффициент инбридинга (F)\"],\n",
    "        \"Прирост веса кг/день_папа\": папа[\"Прирост веса кг/день\"],\n",
    "        \"Здоровье (1-10)_папа\": папа[\"Здоровье (1-10)\"],\n",
    "        \"Фертильность (%)_папа\": папа[\"Фертильность (%)\"],\n",
    "        \"Генетическая ценность (баллы)_папа\": папа[\"Генетическая ценность (баллы)\"]\n",
    "    }])\n",
    "    \n",
    "    # Предсказание удоя\n",
    "    predicted_udoy = model_udoy.predict(input_data)[0]\n",
    "    \n",
    "    # Формирование данных о потомке\n",
    "    offspring = {\n",
    "        \"ID_особи\": f\"{родитель_мама}_{родитель_папа}_child\",  # ID потомка\n",
    "        \"Пол\": \"Самка\",  # Пол фиксируем как женский\n",
    "        \"Удой л/день\": predicted_udoy\n",
    "    }\n",
    "    return offspring\n"
   ]
  },
  {
   "cell_type": "code",
   "execution_count": 33,
   "metadata": {},
   "outputs": [
    {
     "name": "stdout",
     "output_type": "stream",
     "text": [
      "{'ID_особи': '150_1996_child', 'Пол': 'Самка', 'Удой л/день': np.float64(30.464534091485472)}\n"
     ]
    }
   ],
   "source": [
    "# Пример предсказания удоя\n",
    "offspring_udoy = predict_udoy(родитель_папа=1996, родитель_мама=150, model_udoy=model_udoy, df=df)\n",
    "print(offspring_udoy)\n"
   ]
  },
  {
   "cell_type": "code",
   "execution_count": 34,
   "metadata": {},
   "outputs": [
    {
     "data": {
      "text/plain": [
       "['/Users/holodkovaelizavetaigorevna/Downloads/hakaton/models/model_udoy.pkl']"
      ]
     },
     "execution_count": 34,
     "metadata": {},
     "output_type": "execute_result"
    }
   ],
   "source": [
    "# Сохранение модели\n",
    "joblib.dump(model_udoy, root_directory / \"models\" / \"model_udoy.pkl\")"
   ]
  }
 ],
 "metadata": {
  "kernelspec": {
   "display_name": ".cow_env",
   "language": "python",
   "name": "python3"
  },
  "language_info": {
   "codemirror_mode": {
    "name": "ipython",
    "version": 3
   },
   "file_extension": ".py",
   "mimetype": "text/x-python",
   "name": "python",
   "nbconvert_exporter": "python",
   "pygments_lexer": "ipython3",
   "version": "3.9.16"
  }
 },
 "nbformat": 4,
 "nbformat_minor": 2
}
